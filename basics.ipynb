{
 "cells": [
  {
   "cell_type": "markdown",
   "metadata": {},
   "source": [
    "## The python way\n",
    "Try and solve the questions."
   ]
  },
  {
   "cell_type": "markdown",
   "metadata": {},
   "source": [
    "1. Write a function to sum all the numbers of a list. Returns the sum.\n",
    "    >Sample list: [8,2,3,0,7]\n",
    "\n",
    "    \n",
    "    >Expected Output: 20"
   ]
  },
  {
   "cell_type": "code",
   "execution_count": 3,
   "metadata": {
    "scrolled": true
   },
   "outputs": [
    {
     "data": {
      "text/plain": [
       "22"
      ]
     },
     "execution_count": 3,
     "metadata": {},
     "output_type": "execute_result"
    }
   ],
   "source": [
    "def sum_list(list):\n",
    "    summation = sum(list)\n",
    "    return summation\n",
    "sum_list([2, 4, 7, 9])"
   ]
  },
  {
   "cell_type": "markdown",
   "metadata": {},
   "source": [
    "2. Given two integer numbers return their product only if the product is less than 1000, else return their sum.\n",
    "\n",
    "    >*Given*:\n",
    "    - number1 = 20\n",
    "    - number2 = 30\n",
    "\n",
    "    >**Expected Output**: \n",
    "    The result is 600\n",
    "\n",
    "\n",
    "    >*Given*: \n",
    "    - number1 = 40\n",
    "    - number2 = 30\n",
    "\n",
    "    >**Expected Output**: \n",
    "    The result is 70\n",
    "\n",
    "    <details>\n",
    "    <summary> Hint</summary>\n",
    "\n",
    "    - Create a function that will take two numbers as parameters\n",
    "    - Next, Inside a function, multiply two numbers and save their product in a product variable\n",
    "    - Next, use the if condition to check if the product >1000. If yes, return the product\n",
    "    - Otherwise, use the else block to calculate the sum of two numbers and return it.\n",
    "\n",
    "    </details>\n",
    "    \n"
   ]
  },
  {
   "cell_type": "code",
   "execution_count": 5,
   "metadata": {},
   "outputs": [
    {
     "data": {
      "text/plain": [
       "'The result is 70'"
      ]
     },
     "execution_count": 5,
     "metadata": {},
     "output_type": "execute_result"
    }
   ],
   "source": [
    "def product_or_sum(a, b):\n",
    "    result = 0\n",
    "    product = a*b\n",
    "    sum = a + b\n",
    "    if product < 1000:\n",
    "        result = product\n",
    "        return f\"the result is {result}\"\n",
    "    else:\n",
    "        result = sum\n",
    "        return f\"The result is {result}\"\n",
    "    return result\n",
    "\n",
    "product_or_sum(20, 50)"
   ]
  },
  {
   "cell_type": "markdown",
   "metadata": {},
   "source": [
    "3. Write a program to check if the given number is a palindrome number. If it is palindrome return True else False.\n",
    "    <details>\n",
    "    <summary> Hint</summary>\n",
    "\n",
    "    A palindrome number is a number that is same after reverse. For example 545, is the palindrome numbers\n",
    "\n",
    "    </details>\n"
   ]
  },
  {
   "cell_type": "code",
   "execution_count": 10,
   "metadata": {},
   "outputs": [
    {
     "ename": "TypeError",
     "evalue": "'int' object is not iterable",
     "output_type": "error",
     "traceback": [
      "\u001b[1;31m---------------------------------------------------------------------------\u001b[0m",
      "\u001b[1;31mTypeError\u001b[0m                                 Traceback (most recent call last)",
      "\u001b[1;32m~\\AppData\\Local\\Temp/ipykernel_16656/236474863.py\u001b[0m in \u001b[0;36m<module>\u001b[1;34m\u001b[0m\n\u001b[0;32m      6\u001b[0m         \u001b[1;32mreturn\u001b[0m \u001b[1;32mFalse\u001b[0m\u001b[1;33m\u001b[0m\u001b[1;33m\u001b[0m\u001b[0m\n\u001b[0;32m      7\u001b[0m \u001b[1;33m\u001b[0m\u001b[0m\n\u001b[1;32m----> 8\u001b[1;33m \u001b[0mcheck_palindrome\u001b[0m\u001b[1;33m(\u001b[0m\u001b[1;36m72527\u001b[0m\u001b[1;33m)\u001b[0m\u001b[1;33m\u001b[0m\u001b[1;33m\u001b[0m\u001b[0m\n\u001b[0m",
      "\u001b[1;32m~\\AppData\\Local\\Temp/ipykernel_16656/236474863.py\u001b[0m in \u001b[0;36mcheck_palindrome\u001b[1;34m(num)\u001b[0m\n\u001b[0;32m      1\u001b[0m \u001b[1;32mdef\u001b[0m \u001b[0mcheck_palindrome\u001b[0m\u001b[1;33m(\u001b[0m\u001b[0mnum\u001b[0m\u001b[1;33m)\u001b[0m\u001b[1;33m:\u001b[0m\u001b[1;33m\u001b[0m\u001b[1;33m\u001b[0m\u001b[0m\n\u001b[1;32m----> 2\u001b[1;33m     \u001b[0mnum_reverse\u001b[0m \u001b[1;33m=\u001b[0m \u001b[0msorted\u001b[0m\u001b[1;33m(\u001b[0m\u001b[0mnum\u001b[0m\u001b[1;33m,\u001b[0m \u001b[0mreverse\u001b[0m\u001b[1;33m=\u001b[0m\u001b[1;32mTrue\u001b[0m\u001b[1;33m)\u001b[0m\u001b[1;33m\u001b[0m\u001b[1;33m\u001b[0m\u001b[0m\n\u001b[0m\u001b[0;32m      3\u001b[0m     \u001b[1;32mif\u001b[0m \u001b[0mnum\u001b[0m \u001b[1;33m==\u001b[0m \u001b[0mnum_reverse\u001b[0m\u001b[1;33m:\u001b[0m\u001b[1;33m\u001b[0m\u001b[1;33m\u001b[0m\u001b[0m\n\u001b[0;32m      4\u001b[0m         \u001b[1;32mreturn\u001b[0m \u001b[1;32mTrue\u001b[0m\u001b[1;33m\u001b[0m\u001b[1;33m\u001b[0m\u001b[0m\n\u001b[0;32m      5\u001b[0m     \u001b[1;32melse\u001b[0m\u001b[1;33m:\u001b[0m\u001b[1;33m\u001b[0m\u001b[1;33m\u001b[0m\u001b[0m\n",
      "\u001b[1;31mTypeError\u001b[0m: 'int' object is not iterable"
     ]
    }
   ],
   "source": [
    "def check_palindrome(num):\n",
    "    num_reverse = sorted(num, reverse=True)\n",
    "    if num == num_reverse:\n",
    "        return True\n",
    "    else:\n",
    "        return False\n",
    "\n",
    "check_palindrome(72527)"
   ]
  },
  {
   "cell_type": "markdown",
   "metadata": {},
   "source": [
    "4. Return a string made of the first, middle and last character\n",
    "\n",
    "    >*Given*: \n",
    "    \"Peter\"\n",
    "\n",
    "    >**Expected Output:**\n",
    "    \"Ptr\"\n",
    "\n",
    "    <details>\n",
    "    <summary> Hint</summary>\n",
    "\n",
    "    - String index always starts with 0\n",
    "    - Use string indexing to get the character present at the given index\n",
    "    - Get the index of the middle character by dividing string length\n",
    "\n",
    "    </details>\n"
   ]
  },
  {
   "cell_type": "code",
   "execution_count": 2,
   "metadata": {},
   "outputs": [
    {
     "data": {
      "text/plain": [
       "'Crs'"
      ]
     },
     "execution_count": 2,
     "metadata": {},
     "output_type": "execute_result"
    }
   ],
   "source": [
    "def first_mid_then_last(word):\n",
    "    len_word = len(word)\n",
    "    mid_index = (len_word // 2)\n",
    "    last_index = len_word - 1\n",
    "    first_mid_last = (f\"{word[0]}{word[mid_index]}{word[last_index]}\")\n",
    "    return first_mid_last\n",
    "first_mid_then_last(\"Charles\")\n",
    "\n"
   ]
  },
  {
   "cell_type": "markdown",
   "metadata": {},
   "source": [
    "5. Write a program to print multiplication table of a given number. Returns a list of all the multiples.\n",
    "\n",
    "    >*Given*\n",
    "    - n = 2\n",
    "\n",
    "    >**Expected Output**: [2,4,6,8,10,12,14,16,18,20]\n"
   ]
  },
  {
   "cell_type": "code",
   "execution_count": 31,
   "metadata": {},
   "outputs": [
    {
     "data": {
      "text/plain": [
       "[18]"
      ]
     },
     "execution_count": 31,
     "metadata": {},
     "output_type": "execute_result"
    }
   ],
   "source": [
    "def mult_table(n):\n",
    "    multiples = []\n",
    "    for i in range(10):\n",
    "        items = n * i\n",
    "        i += 1\n",
    "        multiples = [items]\n",
    "    return multiples\n",
    "mult_table(2)\n",
    "\n",
    "        "
   ]
  },
  {
   "cell_type": "markdown",
   "metadata": {},
   "source": [
    "**Extra**\n",
    "\n",
    "Return the largest item from a given list\n",
    "\n",
    "\n",
    ">Given: \n",
    "x = [90,2,5,8,67]\n",
    "\n",
    ">Expected Output: \n",
    "90\n"
   ]
  },
  {
   "cell_type": "code",
   "execution_count": 1,
   "metadata": {},
   "outputs": [
    {
     "data": {
      "text/plain": [
       "14"
      ]
     },
     "execution_count": 1,
     "metadata": {},
     "output_type": "execute_result"
    }
   ],
   "source": [
    "def largest(list):\n",
    "    largest_element = max(list)\n",
    "    return largest_element\n",
    "largest([2, 5, 14, 7, 9])"
   ]
  }
 ],
 "metadata": {
  "kernelspec": {
   "display_name": "Python 3.9.0 64-bit",
   "language": "python",
   "name": "python3"
  },
  "language_info": {
   "codemirror_mode": {
    "name": "ipython",
    "version": 3
   },
   "file_extension": ".py",
   "mimetype": "text/x-python",
   "name": "python",
   "nbconvert_exporter": "python",
   "pygments_lexer": "ipython3",
   "version": "3.9.0"
  },
  "vscode": {
   "interpreter": {
    "hash": "95147601169b0809de85d1fa312467db0bb52cb62f46da355715bd2f893d4bb2"
   }
  }
 },
 "nbformat": 4,
 "nbformat_minor": 2
}
